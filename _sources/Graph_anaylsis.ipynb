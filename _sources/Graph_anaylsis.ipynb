{
  "cells": [
    {
      "cell_type": "markdown",
      "metadata": {
        "id": "nTYx3jfl-iRQ"
      },
      "source": [
        "# Graph Analysis of Last.FM data.\n",
        "\n",
        "Graph analysis is performed in an attempt to better understand the listening habitats of the Last.FM users. Three undirected graphs $G(N, E)$ are constructed that consists of a finite set of nodes $N$ and a finite set of edges $E$. With each edge E of G, there will be an associated real number $w(E)$, called its weight. \n",
        "\n",
        "*Graph_1* takes advantage of the present $friend \\longleftrightarrow friend$ relationships detailed in the data. As this is a friendship relationship rather than a follow relationships, the graph is undirected.  In this case,  $W(E)= 1 $\n",
        "\n",
        "\n",
        "Currently, there is  $ user \\longleftrightarrow  artist $  relationships present in the data. In order to analyse this occurrence, we project this bipartite area of \n",
        "interest into a monopartite sub-graph. *Graph_2* contains $ user \\longleftrightarrow  user $ edges where $w(E)= CA$ \n",
        "\n",
        "where $CA$ is the number of common artists between users. \n",
        "\n",
        "As is evident so far in this investigation, the are a large number of tags (11946)  and these user-submitted semantic categories often contain overlap or are junk. We construct *Graph_3* in attempt to find \"super tags\" i.e. novel tags that effectively covers numerous sub-tags in an attempt to remove redundancy. We believe this may also improve Last.fm's recommendation system if these novel tags were part  of the system.  *Graph_3*  contains $tag \\longleftrightarrow tag$ relationships where $w(E)$= number of common artists. If two tags have no overlapping artists, there exists no relationship.  \n",
        "\n",
        "## Table of Contents\n",
        "- [Importing libraries and data files](#importing-libraries-and-data-files)\n",
        "- [Construct Graphs](#constructing-the-graphs)\n",
        "- [Degree centrality](#degree-centrality)\n",
        "- [Local clustering coefficient](#clustering-coefficient-and-triangular-count)\n",
        "- [Betweenness centrality](#betweeness-centrality)\n",
        "- [Louvian Modularity](#Louvian-modularity)\n",
        "- [Label propagation (Finding Super Tags)](#label-propagation)\n",
        "\n",
        "In this investigation, all the graph algorithms described above besides Label propagation are performed on *Graph_1* and *Graph_2*. We will only use Label propagation on *Graph_3*\n",
        "\n",
        "## Importing libraries and Data files\n"
      ]
    },
    {
      "cell_type": "code",
      "execution_count": 282,
      "metadata": {
        "colab": {
          "base_uri": "https://localhost:8080/",
          "height": 244
        },
        "id": "tnL_GYJc7xu_",
        "outputId": "978d509b-c4a3-4f2a-b4bc-5b1d49e69d62"
      },
      "outputs": [
        {
          "name": "stdout",
          "output_type": "stream",
          "text": [
            "Requirement already satisfied: python-louvain in c:\\users\\tonyr\\anaconda3\\lib\\site-packages (0.15)\n",
            "Requirement already satisfied: networkx in c:\\users\\tonyr\\anaconda3\\lib\\site-packages (from python-louvain) (2.4)\n",
            "Requirement already satisfied: numpy in c:\\users\\tonyr\\anaconda3\\lib\\site-packages (from python-louvain) (1.21.3)\n",
            "Requirement already satisfied: decorator>=4.3.0 in c:\\users\\tonyr\\anaconda3\\lib\\site-packages (from networkx->python-louvain) (4.4.2)\n"
          ]
        }
      ],
      "source": [
        "import networkx as nx\n",
        "from collections import defaultdict\n",
        "import os\n",
        "import itertools\n",
        "import seaborn as sns\n",
        "import collections\n",
        "import matplotlib.cm as cm\n",
        "import matplotlib.pyplot as plt\n",
        "import ast\n",
        "! pip install python-louvain\n",
        "import community as cp\n",
        "import community as community_louvain"
      ]
    },
    {
      "cell_type": "code",
      "execution_count": 283,
      "metadata": {
        "colab": {
          "base_uri": "https://localhost:8080/"
        },
        "id": "AgN2HpNCTXzQ",
        "outputId": "29216290-26a6-40a7-fc4c-ee828e3e13e8"
      },
      "outputs": [],
      "source": [
        "#from google.colab import drive\n",
        "#drive.mount('/content/drive/')\n",
        "#os.chdir(\"/content/drive/My Drive/DCU/fouth_year/advanced_machine_learning/assignment-3/music-recommodation-system\")"
      ]
    },
    {
      "cell_type": "code",
      "execution_count": 284,
      "metadata": {
        "id": "OZR2u1EeKUrF"
      },
      "outputs": [],
      "source": [
        "user_artists = pd.read_csv('data/user_artists.dat', sep='\\t')\n",
        "user_friendships =  pd.read_csv('data/unqiue_friendships.csv')\n",
        "tags = pd.read_csv(open('data/tags.dat', errors='replace'), sep='\\t')\n",
        "user_taggedartists = pd.read_csv(r'data/user_taggedartists-timestamps.dat', sep='\\t')\n",
        "user_taggedartists = pd.merge(user_taggedartists, tags, on=['tagID'])\n",
        "tags = pd.read_csv(open('data/tags.dat', errors='replace'), sep='\\t')\n"
      ]
    },
    {
      "cell_type": "markdown",
      "metadata": {
        "id": "R7O-x9KNVttn"
      },
      "source": [
        "\n",
        "## Constructing the graphs\n",
        "In order to construct the graphs, we must further construct  a list of vertices and a list of tuples detailing edges in a particular graph.  We use the *Graph* object as we want an undirected graph. Note, calculating the edges and vertices for *Graph_2* and *Graph_3* wil take several hours. Jupyter book raises a run time exception in this scenario. Therefore, we decide to pre-compute the required edges and vertices and save them into csv files. The code required to construct these graphs is provided for verification purposes. "
      ]
    },
    {
      "cell_type": "code",
      "execution_count": 285,
      "metadata": {
        "id": "chVIK7cwUXDz"
      },
      "outputs": [],
      "source": [
        "graph_1 = nx.Graph()\n",
        "graph_2 = nx.Graph()\n",
        "graph_3 = nx.Graph()"
      ]
    },
    {
      "cell_type": "code",
      "execution_count": 286,
      "metadata": {
        "id": "jxDHto0zU4vt"
      },
      "outputs": [],
      "source": [
        "\n",
        "# GRAPH 1 \n",
        "\n",
        "# graph_1_vertcies = list(set(user_friendships['friend1_id'].values).union(set(user_friendships['friend2_id'].values)))\n",
        "# graph_1_edges = list()\n",
        "# for index, row in user_friendships.iterrows():\n",
        "#   graph_1_edges.append((row['friend1_id'], row['friend2_id']))\n",
        "\n",
        "# GRAPH 2\n",
        "# pairs_users = list(itertools.combinations(user_artists['userID'].unique(), 2))\n",
        "# graph_2_vertices = set()\n",
        "# graph_2_edges = []\n",
        "# for user_1,user_2 in pairs_users:\n",
        "#   user_1_artists = set(user_artists[user_artists['userID'] == user_1]['artistID'].values)\n",
        "#   user_2_artists = set(user_artists[user_artists['userID'] == user_2]['artistID'].values)\n",
        "#   common_artist_count = len(user_1_artists.intersection(user_2_artists))\n",
        "#   if common_artist_count > 0:\n",
        "#     graph_2_vertices.add(user_1)\n",
        "#     graph_2_vertices.add(user_2)\n",
        "#     graph_2_edges.append((user_1, user_2, {'weight': common_artist_count}))\n",
        "\n",
        "# GRAPH 3\n",
        "# pair_tags = list(itertools.combinations(user_taggedartists['tagValue'].unique(), 2))\n",
        "# graph_3_vertices = set()\n",
        "# graph_3_edges = []\n",
        "# for tag_1,tag_2 in pair_tags:\n",
        "#   tag_1_artists = set(user_taggedartists[user_taggedartists['tagValue'] == tag_1]['artistID'].values)\n",
        "#   tag_2_artists = set(user_taggedartists[user_taggedartists['ustagValueerID'] == tag_1]['artistID'].values)\n",
        "#   common_artist_count = len(tag_1_artists.intersection(tag_2_artists))\n",
        "#   if common_artist_count > 0:\n",
        "#     graph_3_vertices.add(tag_1)\n",
        "#     graph_3_vertices.add(tag_2)\n",
        "#     graph_3_edges.append((tag_1, tag_2, {'weight': common_artist_count}))"
      ]
    },
    {
      "cell_type": "code",
      "execution_count": 287,
      "metadata": {},
      "outputs": [],
      "source": [
        "def convert_df_list_tuples(df, weight=True):\n",
        "    \"\"\"Converts edge df columns to a list of tuples\"\"\"\n",
        "    edges = list()\n",
        "    if not weight:\n",
        "        for index, row in df.iterrows():\n",
        "            edges.append((row[0], row[1], {'weight':1}))\n",
        "    else:\n",
        "        for index, row in df.iterrows():\n",
        "            edges.append((row[0], row[1], ast.literal_eval(row[2])))\n",
        "    return edges\n"
      ]
    },
    {
      "cell_type": "code",
      "execution_count": 288,
      "metadata": {
        "id": "Q4sj5KyJYARL"
      },
      "outputs": [],
      "source": [
        "\n",
        "graph_1_vertcies =  pd.read_csv('data/graph/graph_1_vertices.csv')['friends'].values.tolist()\n",
        "graph_1_edges =  pd.read_csv('data/graph/graph_1_edges.csv')\n",
        "graph_1_edges = convert_df_list_tuples(graph_1_edges, False)\n",
        "\n",
        "graph_2_vertices =  pd.read_csv('data/graph/graph_2_vertices.csv')['users'].values.tolist()\n",
        "graph_2_edges =  pd.read_csv('data/graph/graph_2_edges.csv')\n",
        "graph_2_edges = convert_df_list_tuples(graph_2_edges, True)\n",
        "\n",
        "graph_3_vertices =  pd.read_csv('data/graph/graph_3_vertices.csv')['tags'].values.tolist()\n",
        "graph_3_edges =  pd.read_csv('data/graph/graph_3_edges.csv')\n",
        "graph_3_edges = convert_df_list_tuples(graph_3_edges, True)"
      ]
    },
    {
      "cell_type": "code",
      "execution_count": 289,
      "metadata": {
        "id": "ye4-CrORc7xa"
      },
      "outputs": [],
      "source": [
        "graph_1.add_nodes_from(graph_1_vertcies)\n",
        "graph_1.add_edges_from(graph_1_edges)\n",
        "\n",
        "graph_2.add_nodes_from(graph_2_vertices)\n",
        "graph_2.add_edges_from(graph_2_edges)\n",
        "\n",
        "graph_3.add_nodes_from(graph_3_vertices)\n",
        "graph_3.add_edges_from(graph_3_edges)"
      ]
    },
    {
      "cell_type": "code",
      "execution_count": 290,
      "metadata": {
        "id": "nYnq2_4DdH5i"
      },
      "outputs": [],
      "source": [
        "## Validation checks of the graphs. \n",
        "assert len(graph_1_vertcies) == len(graph_1.nodes())\n",
        "assert len(graph_1_edges) == len(graph_1.edges())\n",
        "assert graph_1.get_edge_data(2, 4) == None\n",
        "\n",
        "assert len(graph_2_vertices) == len(graph_2.nodes())\n",
        "assert len(graph_2_edges) == len(graph_2.edges())\n",
        "assert graph_2.get_edge_data(2, 4) == {'weight': 7}\n",
        "\n",
        "\n",
        "assert len(graph_3_edges) == len(graph_3.edges())\n",
        "assert len(graph_3_vertices) == len(graph_3.nodes())\n",
        "assert graph_3.get_edge_data('chillout', 'downtempo') == {'weight': 263}"
      ]
    },
    {
      "cell_type": "markdown",
      "metadata": {},
      "source": [
        "## Degree centrality \n",
        "Our initial graphs analysis is very simple. We compute the amount of degrees each nodes has in *Graph_1* and *Graph_2*. The degree is the number of links incident upon a node. The nodes are then sorted by degree descending to find the users that have the most number of friends in *Graph_1* and the users who listen to the most artists in *Graph_2*. "
      ]
    },
    {
      "cell_type": "code",
      "execution_count": 291,
      "metadata": {},
      "outputs": [],
      "source": [
        "def get_five(dictionary, algo_string):\n",
        "    count = 0\n",
        "    user_id  = []\n",
        "    values = []\n",
        "    for user, value in dictionary.items():\n",
        "        user_id.append(user)\n",
        "        values.append(value)\n",
        "        if count == 4:\n",
        "            break\n",
        "        count+=1\n",
        "    return pd.DataFrame(data={\"userID\":user_id,algo_string:values})"
      ]
    },
    {
      "cell_type": "markdown",
      "metadata": {},
      "source": [
        "*Graph_1*: The top five users with the most number of friends"
      ]
    },
    {
      "cell_type": "code",
      "execution_count": 292,
      "metadata": {},
      "outputs": [
        {
          "data": {
            "text/html": [
              "<div>\n",
              "<style scoped>\n",
              "    .dataframe tbody tr th:only-of-type {\n",
              "        vertical-align: middle;\n",
              "    }\n",
              "\n",
              "    .dataframe tbody tr th {\n",
              "        vertical-align: top;\n",
              "    }\n",
              "\n",
              "    .dataframe thead th {\n",
              "        text-align: right;\n",
              "    }\n",
              "</style>\n",
              "<table border=\"1\" class=\"dataframe\">\n",
              "  <thead>\n",
              "    <tr style=\"text-align: right;\">\n",
              "      <th></th>\n",
              "      <th>userID</th>\n",
              "      <th>Degree Centrality</th>\n",
              "    </tr>\n",
              "  </thead>\n",
              "  <tbody>\n",
              "    <tr>\n",
              "      <th>0</th>\n",
              "      <td>1543</td>\n",
              "      <td>0.062930</td>\n",
              "    </tr>\n",
              "    <tr>\n",
              "      <th>1</th>\n",
              "      <td>1281</td>\n",
              "      <td>0.058170</td>\n",
              "    </tr>\n",
              "    <tr>\n",
              "      <th>2</th>\n",
              "      <td>831</td>\n",
              "      <td>0.056055</td>\n",
              "    </tr>\n",
              "    <tr>\n",
              "      <th>3</th>\n",
              "      <td>179</td>\n",
              "      <td>0.051296</td>\n",
              "    </tr>\n",
              "    <tr>\n",
              "      <th>4</th>\n",
              "      <td>1503</td>\n",
              "      <td>0.050238</td>\n",
              "    </tr>\n",
              "  </tbody>\n",
              "</table>\n",
              "</div>"
            ],
            "text/plain": [
              "   userID  Degree Centrality\n",
              "0    1543           0.062930\n",
              "1    1281           0.058170\n",
              "2     831           0.056055\n",
              "3     179           0.051296\n",
              "4    1503           0.050238"
            ]
          },
          "execution_count": 292,
          "metadata": {},
          "output_type": "execute_result"
        }
      ],
      "source": [
        "get_five(dict(sorted(nx.algorithms.centrality.degree_centrality(graph_1).items(), key=lambda item: item[1], reverse=True)), \"Degree Centrality\")"
      ]
    },
    {
      "cell_type": "code",
      "execution_count": 293,
      "metadata": {},
      "outputs": [
        {
          "data": {
            "image/png": "[encoded data removed]",
            "text/plain": [
              "<Figure size 432x288 with 1 Axes>"
            ]
          },
          "metadata": {
            "needs_background": "light"
          },
          "output_type": "display_data"
        }
      ],
      "source": [
        "dc = nx.degree_centrality(graph_1)\n",
        "degrees = dc.values()\n",
        "degrees = sorted(degrees, reverse=True)\n",
        "plt.bar(range(len(degrees)), degrees, align='center')\n",
        "plt.title('Degree Distribution of Graph 1')\n",
        "plt.show()"
      ]
    },
    {
      "cell_type": "markdown",
      "metadata": {},
      "source": [
        "The above figure plots the degree centrality distribution of *graph_1*. As expected, the distribution histogram of degree centrality has a long tail, which means their are few people have a lot of friends while most of people have a relatively small number of friends."
      ]
    },
    {
      "cell_type": "markdown",
      "metadata": {},
      "source": [
        "*Graph_2*: The top five users who have listened to the most amount of artists."
      ]
    },
    {
      "cell_type": "code",
      "execution_count": 294,
      "metadata": {},
      "outputs": [
        {
          "data": {
            "text/html": [
              "<div>\n",
              "<style scoped>\n",
              "    .dataframe tbody tr th:only-of-type {\n",
              "        vertical-align: middle;\n",
              "    }\n",
              "\n",
              "    .dataframe tbody tr th {\n",
              "        vertical-align: top;\n",
              "    }\n",
              "\n",
              "    .dataframe thead th {\n",
              "        text-align: right;\n",
              "    }\n",
              "</style>\n",
              "<table border=\"1\" class=\"dataframe\">\n",
              "  <thead>\n",
              "    <tr style=\"text-align: right;\">\n",
              "      <th></th>\n",
              "      <th>userID</th>\n",
              "      <th>Degree Centrality</th>\n",
              "    </tr>\n",
              "  </thead>\n",
              "  <tbody>\n",
              "    <tr>\n",
              "      <th>0</th>\n",
              "      <td>1368</td>\n",
              "      <td>0.909766</td>\n",
              "    </tr>\n",
              "    <tr>\n",
              "      <th>1</th>\n",
              "      <td>458</td>\n",
              "      <td>0.904989</td>\n",
              "    </tr>\n",
              "    <tr>\n",
              "      <th>2</th>\n",
              "      <td>1469</td>\n",
              "      <td>0.898620</td>\n",
              "    </tr>\n",
              "    <tr>\n",
              "      <th>3</th>\n",
              "      <td>864</td>\n",
              "      <td>0.890127</td>\n",
              "    </tr>\n",
              "    <tr>\n",
              "      <th>4</th>\n",
              "      <td>1114</td>\n",
              "      <td>0.885350</td>\n",
              "    </tr>\n",
              "  </tbody>\n",
              "</table>\n",
              "</div>"
            ],
            "text/plain": [
              "   userID  Degree Centrality\n",
              "0    1368           0.909766\n",
              "1     458           0.904989\n",
              "2    1469           0.898620\n",
              "3     864           0.890127\n",
              "4    1114           0.885350"
            ]
          },
          "execution_count": 294,
          "metadata": {},
          "output_type": "execute_result"
        }
      ],
      "source": [
        "get_five(dict(sorted(nx.algorithms.centrality.degree_centrality(graph_2).items(), key=lambda item: item[1], reverse=True)), \"Degree Centrality\")"
      ]
    },
    {
      "cell_type": "code",
      "execution_count": 295,
      "metadata": {},
      "outputs": [
        {
          "data": {
            "image/png": "[encoded data removed]",
            "text/plain": [
              "<Figure size 432x288 with 1 Axes>"
            ]
          },
          "metadata": {
            "needs_background": "light"
          },
          "output_type": "display_data"
        }
      ],
      "source": [
        "dc = nx.degree_centrality(graph_2)\n",
        "degrees = dc.values()\n",
        "degrees = sorted(degrees, reverse=True)\n",
        "plt.bar(range(len(degrees)), degrees, align='center')\n",
        "plt.title('Degree Distribution of Graph 2')\n",
        "plt.show()"
      ]
    },
    {
      "cell_type": "markdown",
      "metadata": {},
      "source": [
        "Again, the above plot describes the degree centrality distribution of *graph_2*.  The distribution is only slightly right skewed. This indicates that the userbase of Last.fm generally listens to a limited number of artists with a significant number also listening to a wide range of artists. "
      ]
    },
    {
      "cell_type": "markdown",
      "metadata": {},
      "source": [
        "## Clustering coefficient and triangular count\n",
        "\n",
        "Triangular count refers to the number of triangles or 3-clique for each node in a graph. A triangle is a set of three nodes where each node has a relationship to the other two. Triangular count is particularly useful in social media analysis where it is used to detect communities and graph cohesiveness. It also used as part is used as part of the local clustering coefficient algorithm ($C_{n}$) of a node n. . This algorithm describes the likelihood ([0,1]) that n's neighbour's  are also connected. **Note**, this algorithm is computed for each node. For unweighted graphs like *graph_1*, \n",
        "$\n",
        "C_{n} = \\frac{2T_{n}}{d_{n}(d_{n}) - 1}\n",
        "$\n",
        "where $T_{n}$ is the number of triangles that node n is part of, and $d_{n}$ is the degree of node n. \n",
        "\n",
        "For weighted graphs like *Graph_2*, there are several ways to define clustering ([Saramäki et al, 2007](https://link.aps.org/pdf/10.1103/PhysRevE.75.027105)). Networkx's uses the geometric average of the subgraph edge weights, that is \n",
        "$\n",
        "C_{n} = \\frac{1}{d_{n}(d_{n}) - 1} \\sum_{vw}{} (\\hat{w}_{uv}\\hat{w}_{uw}\\hat{w}_{vw})^{\\frac{1}{3}}\n",
        "$\n",
        "The edge weights $\\hat{w}_{uv}$ are normalized by dividing by the maximum weight in the network.\n",
        "$\n",
        "\\hat{w}_{uv} = \\frac{w_{uv}}{max(w)}\n",
        "$\n",
        "Note, if $d_{n}$ < 2, it is assigned a value of 0. \n",
        "\n",
        "To measure the global cohesiveness of a graph, we can calculate the average local clustering coefficient from all nodes. Due to the quite large graphs, we will just display the output and comment out the code. Otherwise, we run into timeout errors when trying to build the jupyter book. "
      ]
    },
    {
      "cell_type": "code",
      "execution_count": 296,
      "metadata": {},
      "outputs": [],
      "source": [
        "#networkx.algorithms.cluster.average_clustering(graph_1)"
      ]
    },
    {
      "cell_type": "markdown",
      "metadata": {},
      "source": [
        "0.18654479547922215"
      ]
    },
    {
      "cell_type": "code",
      "execution_count": 297,
      "metadata": {},
      "outputs": [],
      "source": [
        "#networkx.algorithms.cluster.average_clustering(graph_2, weight='weight')"
      ]
    },
    {
      "cell_type": "markdown",
      "metadata": {},
      "source": [
        "0.06315564340785443"
      ]
    },
    {
      "cell_type": "markdown",
      "metadata": {},
      "source": [
        "Globally, the graph_1 projection has an average clustering coefficient of 0.186544. This indicates, on average, a user's friends have a probability of 18.6% of also being friends. This indicates that the social network of Last.fm is not tight knit together but rather sparse. A network with a higher average clustering coefficient is often called a small world network, which this graph does not show.\n",
        "\n",
        "Similarly, the graph_2 projection has an average clustering coefficient of 0.0631556. This indicates that the music taste of Last.fm's users are rather sparse, with each artist's audience being unlikely to listen to the same artist."
      ]
    },
    {
      "cell_type": "markdown",
      "metadata": {},
      "source": [
        "## Betweenness Centrality\n",
        "\n",
        "Betweenness centrality detects the amount of influence a node has over the flow of information in a graph i.e. detecting\n",
        "‘bridge points’ between one part of a graph to another. For *graph_1,* we interrupt these bridging nodes as famous Djs\n",
        "or prominent influencers within the graph. For *graph_2*, we interpret these bridging nodes as people with varied music\n",
        "tastes, joining users with almost mono music interests"
      ]
    },
    {
      "cell_type": "markdown",
      "metadata": {},
      "source": [
        "*Graph_1*: The most influential users of Last.FM"
      ]
    },
    {
      "cell_type": "code",
      "execution_count": 298,
      "metadata": {},
      "outputs": [
        {
          "data": {
            "text/html": [
              "<div>\n",
              "<style scoped>\n",
              "    .dataframe tbody tr th:only-of-type {\n",
              "        vertical-align: middle;\n",
              "    }\n",
              "\n",
              "    .dataframe tbody tr th {\n",
              "        vertical-align: top;\n",
              "    }\n",
              "\n",
              "    .dataframe thead th {\n",
              "        text-align: right;\n",
              "    }\n",
              "</style>\n",
              "<table border=\"1\" class=\"dataframe\">\n",
              "  <thead>\n",
              "    <tr style=\"text-align: right;\">\n",
              "      <th></th>\n",
              "      <th>userID</th>\n",
              "      <th>Degree Centrality</th>\n",
              "    </tr>\n",
              "  </thead>\n",
              "  <tbody>\n",
              "    <tr>\n",
              "      <th>0</th>\n",
              "      <td>1543</td>\n",
              "      <td>0.066527</td>\n",
              "    </tr>\n",
              "    <tr>\n",
              "      <th>1</th>\n",
              "      <td>1281</td>\n",
              "      <td>0.054549</td>\n",
              "    </tr>\n",
              "    <tr>\n",
              "      <th>2</th>\n",
              "      <td>831</td>\n",
              "      <td>0.048691</td>\n",
              "    </tr>\n",
              "    <tr>\n",
              "      <th>3</th>\n",
              "      <td>1258</td>\n",
              "      <td>0.043025</td>\n",
              "    </tr>\n",
              "    <tr>\n",
              "      <th>4</th>\n",
              "      <td>78</td>\n",
              "      <td>0.029337</td>\n",
              "    </tr>\n",
              "  </tbody>\n",
              "</table>\n",
              "</div>"
            ],
            "text/plain": [
              "   userID  Degree Centrality\n",
              "0    1543           0.066527\n",
              "1    1281           0.054549\n",
              "2     831           0.048691\n",
              "3    1258           0.043025\n",
              "4      78           0.029337"
            ]
          },
          "execution_count": 298,
          "metadata": {},
          "output_type": "execute_result"
        }
      ],
      "source": [
        "get_five(dict(sorted(nx.algorithms.centrality.betweenness_centrality(graph_1).items(), key=lambda item: item[1], reverse=True)), \"Degree Centrality\")"
      ]
    },
    {
      "cell_type": "markdown",
      "metadata": {},
      "source": [
        "*Graph_2*: Users who listen to the most diverse set of artists "
      ]
    },
    {
      "cell_type": "code",
      "execution_count": 299,
      "metadata": {},
      "outputs": [
        {
          "data": {
            "text/html": [
              "<div>\n",
              "<style scoped>\n",
              "    .dataframe tbody tr th:only-of-type {\n",
              "        vertical-align: middle;\n",
              "    }\n",
              "\n",
              "    .dataframe tbody tr th {\n",
              "        vertical-align: top;\n",
              "    }\n",
              "\n",
              "    .dataframe thead th {\n",
              "        text-align: right;\n",
              "    }\n",
              "</style>\n",
              "<table border=\"1\" class=\"dataframe\">\n",
              "  <thead>\n",
              "    <tr style=\"text-align: right;\">\n",
              "      <th></th>\n",
              "      <th>userID</th>\n",
              "      <th>Degree Centrality</th>\n",
              "    </tr>\n",
              "  </thead>\n",
              "  <tbody>\n",
              "    <tr>\n",
              "      <th>0</th>\n",
              "      <td>1989</td>\n",
              "      <td>0.001067</td>\n",
              "    </tr>\n",
              "    <tr>\n",
              "      <th>1</th>\n",
              "      <td>240</td>\n",
              "      <td>0.000911</td>\n",
              "    </tr>\n",
              "    <tr>\n",
              "      <th>2</th>\n",
              "      <td>1914</td>\n",
              "      <td>0.000769</td>\n",
              "    </tr>\n",
              "    <tr>\n",
              "      <th>3</th>\n",
              "      <td>458</td>\n",
              "      <td>0.000761</td>\n",
              "    </tr>\n",
              "    <tr>\n",
              "      <th>4</th>\n",
              "      <td>1368</td>\n",
              "      <td>0.000743</td>\n",
              "    </tr>\n",
              "  </tbody>\n",
              "</table>\n",
              "</div>"
            ],
            "text/plain": [
              "   userID  Degree Centrality\n",
              "0    1989           0.001067\n",
              "1     240           0.000911\n",
              "2    1914           0.000769\n",
              "3     458           0.000761\n",
              "4    1368           0.000743"
            ]
          },
          "execution_count": 299,
          "metadata": {},
          "output_type": "execute_result"
        }
      ],
      "source": [
        "get_five(dict(sorted(nx.algorithms.centrality.betweenness_centrality(graph_2).items(), key=lambda item: item[1], reverse=True)), \"Degree Centrality\")"
      ]
    },
    {
      "cell_type": "markdown",
      "metadata": {},
      "source": [
        "## Louvain modularity:\n",
        "\n",
        "Louvain modularity is not part of the official networkx library. Therefore, we decide to use the python-louvian\n",
        "package. Louvain modularity is used to find communities, hierarchies and/or evaluate different grouping thresholds.\n",
        "Louvain modularity compares relationship densities in given clusters to densities between clusters i.e. we want a lot of\n",
        "connections in the set and few connections outside the set. We apply this algorithm to *Graph_1* and *Graph_2* to find:\n",
        "\n",
        "- (a) distinct social communities\n",
        "- (b) distinct communities of similar music tastes\n",
        "\n",
        "We relate (b) to the tags, in an effort to see if there is a correlation between the implicit data of artist listenership vs the explicit data of user-submitted tags.  "
      ]
    },
    {
      "cell_type": "code",
      "execution_count": 300,
      "metadata": {},
      "outputs": [
        {
          "data": {
            "image/png": "[encoded data removed]",
            "text/plain": [
              "<Figure size 432x288 with 1 Axes>"
            ]
          },
          "metadata": {},
          "output_type": "display_data"
        }
      ],
      "source": [
        "partition = community_louvain.best_partition(graph_1)\n",
        "# draw the graph_1\n",
        "pos = nx.spring_layout(graph_1)\n",
        "\n",
        "cmap = cm.get_cmap('viridis', max(partition.values()) + 1)\n",
        "nx.draw_networkx_nodes(graph_1, pos, partition.keys(), node_size=40, \n",
        "                       cmap=cmap, node_color=list(partition.values()))\n",
        "nx.draw_networkx_edges(graph_1, pos, alpha=0.5)\n",
        "plt.title('Louvian modularity applied to Graph_1')\n",
        "plt.axis('off')\n",
        "plt.show()"
      ]
    },
    {
      "cell_type": "code",
      "execution_count": 301,
      "metadata": {},
      "outputs": [
        {
          "data": {
            "image/png": "[encoded data removed]",
            "text/plain": [
              "<Figure size 432x288 with 1 Axes>"
            ]
          },
          "metadata": {},
          "output_type": "display_data"
        }
      ],
      "source": [
        "\n",
        "IG = community_louvain.induced_graph(partition, graph_1)\n",
        "pos = nx.spring_layout(IG)\n",
        "plt.title('A graph plot where nodes are communites (Graph_1)')\n",
        "nx.draw_networkx(IG, pos, alpha=.5)\n",
        "plt.axis('off')\n",
        "plt.show()"
      ]
    },
    {
      "cell_type": "code",
      "execution_count": 302,
      "metadata": {},
      "outputs": [
        {
          "name": "stdout",
          "output_type": "stream",
          "text": [
            "Louvian modularity identifies 33 communities in the social network graph\n"
          ]
        }
      ],
      "source": [
        "print(f'Louvian modularity identifies { max(partition.values()) + 1} communities in the social network graph')"
      ]
    },
    {
      "cell_type": "code",
      "execution_count": 303,
      "metadata": {},
      "outputs": [
        {
          "name": "stdout",
          "output_type": "stream",
          "text": [
            "Modularity score for the partition: 0.45093205542255865\n"
          ]
        }
      ],
      "source": [
        "print('Modularity score for the partition:', community_louvain.modularity(partition, graph_1))"
      ]
    },
    {
      "cell_type": "markdown",
      "metadata": {},
      "source": [
        "The modularity score is a measure of the structure of the graph. Graphs with high modularity scores have many connections within a community but only few pointing outwards to other communities where as the opposite is true for the inverse result. Modularity score lies between [-0.5, 1), so the final modularity score for the partition is pretty high, indicating that these number of communities is reasonably accurate."
      ]
    },
    {
      "cell_type": "code",
      "execution_count": 304,
      "metadata": {},
      "outputs": [
        {
          "data": {
            "image/png": "[encoded data removed]",
            "text/plain": [
              "<Figure size 432x288 with 1 Axes>"
            ]
          },
          "metadata": {},
          "output_type": "display_data"
        }
      ],
      "source": [
        "partition = community_louvain.best_partition(graph_2, weight='weight')\n",
        "# draw the graph_2\n",
        "pos = nx.spring_layout(graph_2)\n",
        "cmap = cm.get_cmap('viridis', max(partition.values()) + 1)\n",
        "nx.draw_networkx_nodes(graph_2, pos, partition.keys(), node_size=40, \n",
        "                       cmap=cmap, node_color=list(partition.values()))\n",
        "plt.title('Louvian modularity applied to Graph_2')\n",
        "nx.draw_networkx_edges(graph_2, pos, alpha=0.5)\n",
        "plt.axis('off')\n",
        "plt.show()"
      ]
    },
    {
      "cell_type": "code",
      "execution_count": 305,
      "metadata": {},
      "outputs": [
        {
          "name": "stdout",
          "output_type": "stream",
          "text": [
            "Louvian modularity identifies 2 communities in  graph 2\n"
          ]
        }
      ],
      "source": [
        "print(f'Louvian modularity identifies { max(partition.values()) + 1} communities in  graph 2')\n"
      ]
    },
    {
      "cell_type": "code",
      "execution_count": 306,
      "metadata": {},
      "outputs": [
        {
          "name": "stdout",
          "output_type": "stream",
          "text": [
            "Modularity score for the partition : 0.28234715583451236\n"
          ]
        }
      ],
      "source": [
        "print('Modularity score for the partition :', community_louvain.modularity(parts, graph_2))"
      ]
    },
    {
      "cell_type": "code",
      "execution_count": 307,
      "metadata": {},
      "outputs": [
        {
          "data": {
            "image/png": "[encoded data removed]",
            "text/plain": [
              "<Figure size 432x288 with 1 Axes>"
            ]
          },
          "metadata": {},
          "output_type": "display_data"
        }
      ],
      "source": [
        "IG = community_louvain.induced_graph(partition, graph_2, weight='weight')\n",
        "plt.title('A graph plot where nodes are communites (Graph_2)')\n",
        "pos = nx.spring_layout(IG)\n",
        "nx.draw_networkx(IG, pos, alpha=.5)\n",
        "plt.axis('off')\n",
        "plt.show()"
      ]
    },
    {
      "cell_type": "markdown",
      "metadata": {},
      "source": [
        "\n",
        "These form during the algorithms second pass where several of the possible intuitive communities are merged together. Louvian modulairty has the power to  reveal hierarchy of communities at different scales. The function `generate_dendrogram` gives us a dictionary mapping from level of hierarchy to the partition. Finally, `partition_at_level` takes the result of `generate_dendrogram` and returns a dictionary of the partition, where keys are nodes and values are the index of partition the node belongs to. We use to find the level with the most number of communities. \n"
      ]
    },
    {
      "cell_type": "code",
      "execution_count": 308,
      "metadata": {},
      "outputs": [
        {
          "name": "stdout",
          "output_type": "stream",
          "text": [
            "Community Node Distribution(Hierarchical Clustering): Counter({0: 1097, 1: 589, 2: 199})\n"
          ]
        }
      ],
      "source": [
        "dendrogram = community_louvain.generate_dendrogram(graph_2, weight='weight')\n",
        "parts = community_louvain.partition_at_level(dendrogram, len(dendrogram) - 1) # get the largest possible communities\n",
        "values = [parts.get(node) for node in graph_2.nodes()]\n",
        "spring_pos = nx.spring_layout(graph_2)\n",
        "print('Community Node Distribution(Hierarchical Clustering):', collections.Counter(values))"
      ]
    },
    {
      "cell_type": "code",
      "execution_count": 309,
      "metadata": {},
      "outputs": [
        {
          "data": {
            "image/png": "[encoded data removed]",
            "text/plain": [
              "<Figure size 432x288 with 1 Axes>"
            ]
          },
          "metadata": {},
          "output_type": "display_data"
        }
      ],
      "source": [
        "plt.title('A graph plot of the partition with the greatest number of communities')\n",
        "plt.axis('off')\n",
        "nx.draw_networkx(graph_2, pos = spring_pos, cmap = plt.get_cmap(\"jet\"), node_color = values, node_size = 35, with_labels = False)"
      ]
    },
    {
      "cell_type": "markdown",
      "metadata": {},
      "source": [
        "Unfortunately, only a marginal number of additional communities were revealed when we reviewed the different levels of partitions. Finally, the top ten tags by occurrence are plotted in these communities. "
      ]
    },
    {
      "cell_type": "code",
      "execution_count": 310,
      "metadata": {},
      "outputs": [],
      "source": [
        "community_user_id_dict =  defaultdict(list)\n",
        "for node_id, community in parts.items():\n",
        "    community_user_id_dict[community].append(node_id)\n"
      ]
    },
    {
      "cell_type": "code",
      "execution_count": 311,
      "metadata": {},
      "outputs": [
        {
          "data": {
            "image/png": "[encoded data removed]",
            "text/plain": [
              "<Figure size 432x288 with 1 Axes>"
            ]
          },
          "metadata": {
            "needs_background": "light"
          },
          "output_type": "display_data"
        },
        {
          "data": {
            "image/png": "[encoded data removed]",
            "text/plain": [
              "<Figure size 432x288 with 1 Axes>"
            ]
          },
          "metadata": {
            "needs_background": "light"
          },
          "output_type": "display_data"
        },
        {
          "data": {
            "image/png": "[encoded data removed]",
            "text/plain": [
              "<Figure size 432x288 with 1 Axes>"
            ]
          },
          "metadata": {
            "needs_background": "light"
          },
          "output_type": "display_data"
        }
      ],
      "source": [
        "for community_number in community_user_id_dict:\n",
        "    tag_list = user_taggedartists[user_taggedartists.userID.isin(community_user_id_dict[community_number])]['tagValue'].values.tolist()\n",
        "    tag_occurances =  collections.Counter(tag_list).most_common(10)\n",
        "    tag_df = pd.DataFrame.from_dict(tag_occurances)\n",
        "    tag_df.columns =['Tag','Count']\n",
        "    sns.barplot(x=\"Tag\", y=\"Count\", data=tag_df)\n",
        "    plt.title(f'Top 10 tag occurances in community {community_number}')\n",
        "    plt.xticks(rotation=45)\n",
        "    plt.show()"
      ]
    },
    {
      "cell_type": "markdown",
      "metadata": {},
      "source": [
        "We observe some commonality in these three communities. For instance, rock, electronic, pop, alternative were present in the top 10 assigned tags in all three communities. Although these are also the top four global tags. We expect this given the small number of communities identified. \n",
        "\n",
        "\n",
        "```{Reminder}\n",
        "The weight attribute in Graph 2 represents the number of common artists in  user-user relationship. \n",
        "```\n",
        "\n",
        "\n",
        "Besides this, we observe a clear distinction in music tastes among the three clusters. Cluster 0 has a more of tendency to listen to rock and sub genres of rock where as community 1 listens to 90s and dance music. Community 2 seems to follow the mainstream, with little defining music taste."
      ]
    },
    {
      "cell_type": "markdown",
      "metadata": {},
      "source": [
        "## Label Propagation - finding super tags\n",
        "\n",
        "Similar to Louvian Modulaity, Label Propagation is used to find communities within a graph.  After initializing each node with a unique label, the algorithm repeatedly sets the label of a node to be the label that appears most frequently among that nodes neighbors. The algorithm halts when each node has the label that appears most frequently among its neighbors. From this notation of 'projected labeling', spun out the idea of creating \"super tags\" in an effort to reduce redundancy. We envision that these novel tags could be incorporated into Last.fMs retrieval or recommendation systems. This algorithm is applied to *graph_3*. \n"
      ]
    },
    {
      "cell_type": "code",
      "execution_count": 316,
      "metadata": {},
      "outputs": [
        {
          "name": "stdout",
          "output_type": "stream",
          "text": [
            "['jaebeom', 'park jaebum', 'park jaebeom', 'jaebum', 'jaywalkers']\n",
            "['kwasa', 'angola', 'semba']\n",
            "['underground hip hp', 'luso hip hop', 'hip hop under', 'raptuga', 'hip hop angolano']\n"
          ]
        }
      ],
      "source": [
        "c = list(nx.algorithms.community.label_propagation.label_propagation_communities(graph_3))\n",
        "clusters = ([list(x) for x in c])\n",
        "for cluster in clusters:\n",
        "    if len(cluster) < 8:\n",
        "        print(cluster)"
      ]
    },
    {
      "cell_type": "markdown",
      "metadata": {},
      "source": [
        "When these clusters were examined, we found some intuitive examples. For example, the tags 'underground hip hop','luso hip hop', 'hip hop under', 'raptuga', and 'hip hop angolano' being clustered together. They are all sub-groups of hip-hop. The tags 'kwasa', 'angola', 'semba' are all types of traditional   music, originating from central and south-western Africa. Finally, the first clustering group's tags all relate to the Korean-American rapper Jay Park. This example demonstrates our overall goal of removing redundancy. "
      ]
    }
  ],
  "metadata": {
    "colab": {
      "name": "4_graph_analysis.ipynb",
      "provenance": []
    },
    "kernelspec": {
      "display_name": "Python 3",
      "name": "python3"
    },
    "language_info": {
      "codemirror_mode": {
        "name": "ipython",
        "version": 3
      },
      "file_extension": ".py",
      "mimetype": "text/x-python",
      "name": "python",
      "nbconvert_exporter": "python",
      "pygments_lexer": "ipython3",
      "version": "3.8.3"
    },
    "orig_nbformat": 4
  },
  "nbformat": 4,
  "nbformat_minor": 0
}
