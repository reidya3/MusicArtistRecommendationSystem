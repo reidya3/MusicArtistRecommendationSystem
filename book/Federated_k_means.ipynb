{
 "cells": [
  {
   "cell_type": "markdown",
   "source": [
    "# Federated K-Means\r\n",
    "In this section, we attempt to form a federated k-means algorithm to preserve the privacy of the individual labs. \r\n",
    "\r\n",
    "**Federated learning:**  First introduced by Google, federated learning trains an algorithm across multiple decentralized servers/devices with local data samples. There is **no** data sharing between servers. This is in contrast to the standard way of training a machine learning algorithm where all of the training dataset is uploaded to one server. This technique address critical issues relating to data privacy and security \r\n",
    "\r\n",
    "```{figure} /images/Federated_K-Means.png\r\n",
    "---\r\n",
    "name: workflow-fkm\r\n",
    "---\r\n",
    "Workflow of Federated K-means *Note: child servers 2 to 7 are obscured*\r\n",
    "```\r\n",
    "\r\n",
    "## Child Server (Study):\r\n",
    "### 1. Base k-means:\r\n",
    "The original K-Means algorithm is only trained on a given dataset once. There is no update method. In this approach, we split a study’s dataset 75:25. 75% of a study’s data is trained using normal K-means as part of step 1. It is important to note that all child servers are independent of one another.\r\n",
    "### 2. Update:\r\n",
    "In an attempt to resemble real-world federated learning where a new data point is generated on a device, we add an update step to base K-means. Rather than recompute k-means, we iterate through the remaining 25% of data and perform the following steps \r\n",
    "1. Convert new data point to NumPy array\r\n",
    "2. Find the minimum Euclidean distance between that new point $X_{i}$  and the cluster centres (T) to find the closest cluster centre ($C_{i}$).\r\n",
    "$\r\n",
    "Minimum Distance = min((X_{i} - C_{1})^2.............(X_{i} - C_{T})^2)\r\n",
    "$\r\n",
    "3. Transform the cluster centre $C_{i}$ by doing the operation below. N equals the number of participants assigned to that cluster thus far i.e. before the new data point :\r\n",
    "$\r\n",
    "TransformedClusterCentre = \\frac{((C_{i} * N) + X_{i})}{N+1}\r\n",
    "$\r\n",
    "3. Then, the new data point is added to the cluster, and the transformed cluster centre is the new cluster centre.\r\n",
    "## Parent Server:\r\n",
    "### 3. Aggregate & Compute K-means run:\r\n",
    "Once all child devices have completed their update phase, their cluster centres are added to the parent server. Then, we compute another K-means run to find the optimal number of k centroids."
   ],
   "metadata": {}
  },
  {
   "cell_type": "code",
   "execution_count": 1,
   "source": [
    "from sklearn.cluster import KMeans\r\n",
    "import pandas as pd\r\n",
    "import numpy as np"
   ],
   "outputs": [],
   "metadata": {}
  },
  {
   "cell_type": "code",
   "execution_count": 2,
   "source": [
    "dim_reduced_2d = pd.read_csv('data/dim_reduced_2d.tsv', sep=\"\\t\")\r\n",
    "dim_reduced_3d = pd.read_csv('data/dim_reduced_3d.tsv', sep=\"\\t\")\r\n"
   ],
   "outputs": [],
   "metadata": {}
  },
  {
   "cell_type": "markdown",
   "source": [
    "Here, we are just creating variables to hold the data from each study. "
   ],
   "metadata": {}
  },
  {
   "cell_type": "code",
   "execution_count": 3,
   "source": [
    "studies_list = ['Horstmann', 'Kjome', 'Maia', 'SteingroverInPrep', 'Premkumar','Wood', 'Worthy', 'Ahn']\r\n",
    "for study in studies_list:\r\n",
    "    globals()[f'{study}_study'] = dim_reduced_2d[dim_reduced_2d['study'] == study]"
   ],
   "outputs": [],
   "metadata": {}
  },
  {
   "cell_type": "markdown",
   "source": [
    "### Child K-means class"
   ],
   "metadata": {}
  },
  {
   "cell_type": "code",
   "execution_count": 4,
   "source": [
    "class child_kmeans(KMeans):\r\n",
    "    \"\"\"\r\n",
    "    A python class that executes the original k-means algorithm on 75% of the available data \r\n",
    "        from a study. Leftover data is used to update the cluster centres\r\n",
    "        as described above. Inherits from scikit-learn's K-means class\r\n",
    "    \"\"\"\r\n",
    "    \r\n",
    "    def __init__(self,\r\n",
    "                df,\r\n",
    "                n_clusters):\r\n",
    "        super().__init__(n_clusters=n_clusters, random_state=42)\r\n",
    "        self.df = df\r\n",
    "        self.update_df, self.base_df = np.split(df, [int(.25*len(df))])\r\n",
    "        # map cluster index to number of particpants e.g. <0:77> \r\n",
    "        self.cluster_index_num = dict()\r\n",
    "        # map cluster index to number of particpants e.g. <0:array([-0.96292967,  1.03276864])> \r\n",
    "        # Necessary as numpy array is unhashable \r\n",
    "        self.index_cluster_centre = dict()\r\n",
    "\r\n",
    "    \r\n",
    "    def find_closest_cluster(self, new_data_point):\r\n",
    "        min_dist =  float(\"inf\")\r\n",
    "        min_cluster_centre= None\r\n",
    "        cluster_index = None\r\n",
    "        for current_key, cluster in self.index_cluster_centre.items():\r\n",
    "            current_dist = (np.sum(np.square(new_data_point - cluster)))\r\n",
    "            if current_dist < min_dist:\r\n",
    "                min_cluster_centre = cluster\r\n",
    "                min_dist = current_dist\r\n",
    "                cluster_index = current_key\r\n",
    "        return cluster_index, min_cluster_centre\r\n",
    "\r\n",
    "    def update(self):\r\n",
    "        for index, row in self.update_df.iterrows():\r\n",
    "            new_data_point = np.array(row)\r\n",
    "            cluster_index, closest_cluster = self.find_closest_cluster(new_data_point)\r\n",
    "            num_subjects = self.cluster_index_num[cluster_index]\r\n",
    "            self.index_cluster_centre[cluster_index] = np.divide(((closest_cluster * num_subjects) + new_data_point), num_subjects+1)\r\n",
    "            self.cluster_index_num[cluster_index] += 1\r\n",
    "    \r\n",
    "\r\n",
    "    def create_maps(self):\r\n",
    "        cluster_indexes, counts = np.unique(self.labels_, return_counts=True)\r\n",
    "        self.cluster_index_num = {cluster_index:count for cluster_index, count in zip(cluster_indexes, counts) }\r\n",
    "        self.index_cluster_centre = {cluster_index: self.cluster_centers_[cluster_index] for cluster_index in cluster_indexes}\r\n",
    "\r\n",
    "    def run(self):\r\n",
    "        super().fit(self.base_df)\r\n",
    "        self.create_maps()\r\n",
    "        self.update() \r\n",
    "        updated_cluster_centres = [np.array(cluster_centre) for cluster_centre in self.index_cluster_centre.values()] \r\n",
    "        return updated_cluster_centres \r\n",
    "   "
   ],
   "outputs": [],
   "metadata": {}
  },
  {
   "cell_type": "markdown",
   "source": [
    "### Parent K-means class"
   ],
   "metadata": {}
  },
  {
   "cell_type": "code",
   "execution_count": 5,
   "source": [
    "class parent_kmeans(KMeans):\r\n",
    "    \"\"\"\r\n",
    "    A python class that retrieves cluster centres from\r\n",
    "        each study, and then computes another k-means algorithim \r\n",
    "    \"\"\"\r\n",
    "\r\n",
    "    def __init__(self,n_clusters) -> None:\r\n",
    "        super().__init__(n_clusters=n_clusters, random_state=42)\r\n",
    "        self.cluster_centres_studies = []\r\n",
    "        self.federated_cluster_centres = None\r\n",
    "\r\n",
    "    def add(self, cluster_centre):\r\n",
    "        self.cluster_centres_studies.extend(cluster_centre)\r\n",
    "\r\n",
    "    def update_cluster_centre(self):\r\n",
    "        super().fit(self.cluster_centres_studies)\r\n",
    "    \r\n",
    "    def get_new_centres(self):\r\n",
    "        return self.cluster_centers_\r\n"
   ],
   "outputs": [],
   "metadata": {}
  },
  {
   "cell_type": "code",
   "execution_count": 6,
   "source": [
    "parent_server = parent_kmeans(n_clusters=3)\r\n",
    "\r\n",
    "for study in studies_list:\r\n",
    "    # First retrieving the cluster centres from a study\r\n",
    "    study_cluster_centres = child_kmeans(globals()[f'{study}_study'].iloc[:,2:], n_clusters=3).run()\r\n",
    "    # Adding that information to the parent server \r\n",
    "    parent_server.add(cluster_centre=study_cluster_centres)\r\n",
    "\r\n",
    "# Calculating the new federated cluster centres\r\n",
    "parent_server.update_cluster_centre()\r\n",
    "# Retrieving the cluster centres from Federated K-means and normal K-means    \r\n",
    "fkm_cluster_centres = parent_server.get_new_centres()\r\n",
    "km_clusters_centres = KMeans(n_clusters=3,random_state=42).fit(dim_reduced_2d.iloc[:,2:]).cluster_centers_\r\n"
   ],
   "outputs": [],
   "metadata": {}
  },
  {
   "cell_type": "markdown",
   "source": [
    "## Evaluation "
   ],
   "metadata": {}
  },
  {
   "cell_type": "markdown",
   "source": [
    "Before evaluating the results, an important consideration should be noted. As with any K-Means algorithm, results may vary with each run or input seed of the algorithm as the algorithm's performance is heavily dependent on the initial clusters chosen. We evaluate our algorithm on the 2d dataset with k=3 and seed=42. "
   ],
   "metadata": {}
  },
  {
   "cell_type": "code",
   "execution_count": 7,
   "source": [
    "\r\n",
    "def calulate_SSE(df, fkm_cluster_centres, km_clusters_centres):\r\n",
    "    \"\"\"\r\n",
    "    Calculates k-mean's objective function (Sum Square Error) for both federared K-means\r\n",
    "        algorithm and the original K-means algorithm \r\n",
    "    \r\n",
    "    :param df: Dataframe containing data from the many labs paper\r\n",
    "    :param fkm_cluster_centres: Cluster centres of the Federated K-means Algo.\r\n",
    "    :param km_clusters_centres: Cluster centres of the original K-means Algo.\r\n",
    "    \"\"\"\r\n",
    "    df[\"fkm_SSE\"] = None\r\n",
    "    df[\"km_SSE\"] = None\r\n",
    "    for index, subject in df.iterrows():\r\n",
    "        subject_dim = np.array(subject[[\"component_1\",\"component_2\"]])\r\n",
    "        df.iloc[index, -2] = min([(np.sum(np.square(subject_dim - cluster))) for cluster in fkm_cluster_centres])\r\n",
    "        df.iloc[index, -1] =  min([np.sum(np.square(subject_dim - cluster)) for cluster in km_clusters_centres])\r\n",
    "    return df"
   ],
   "outputs": [],
   "metadata": {}
  },
  {
   "cell_type": "code",
   "execution_count": 8,
   "source": [
    "evaluate_2d_df = calulate_SSE(dim_reduced_2d, fkm_cluster_centres, km_clusters_centres)"
   ],
   "outputs": [],
   "metadata": {}
  },
  {
   "cell_type": "code",
   "execution_count": 9,
   "source": [
    "print(f'Federated K-mean SSE: {evaluate_2d_df[\"fkm_SSE\"].sum()}')\r\n",
    "print(f'K-mean SSE: {evaluate_2d_df[\"km_SSE\"].sum()}')"
   ],
   "outputs": [
    {
     "output_type": "stream",
     "name": "stdout",
     "text": [
      "Federated K-mean SSE: 1498.2800508864195\n",
      "K-mean SSE: 1362.1960103577228\n"
     ]
    }
   ],
   "metadata": {}
  },
  {
   "cell_type": "markdown",
   "source": [
    "Our chosen approach only results in a approximate 10% increase in SSE compared to the original centralized K-means algorithm."
   ],
   "metadata": {}
  }
 ],
 "metadata": {
  "kernelspec": {
   "name": "python3",
   "display_name": "Python 3.8.3 64-bit ('venv': venv)"
  },
  "language_info": {
   "codemirror_mode": {
    "name": "ipython",
    "version": 3
   },
   "file_extension": ".py",
   "mimetype": "text/x-python",
   "name": "python",
   "nbconvert_exporter": "python",
   "pygments_lexer": "ipython3",
   "version": "3.8.3"
  },
  "widgets": {
   "application/vnd.jupyter.widget-state+json": {
    "state": {},
    "version_major": 2,
    "version_minor": 0
   }
  },
  "interpreter": {
   "hash": "00a0075937c46e4fa2684306921a6efe0826486343b024167c91da4e96a7c8cc"
  }
 },
 "nbformat": 4,
 "nbformat_minor": 4
}